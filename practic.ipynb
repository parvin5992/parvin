{
  "nbformat": 4,
  "nbformat_minor": 0,
  "metadata": {
    "colab": {
      "private_outputs": true,
      "provenance": [],
      "cell_execution_strategy": "setup"
    },
    "kernelspec": {
      "name": "python3",
      "display_name": "Python 3"
    },
    "language_info": {
      "name": "python"
    }
  },
  "cells": [
    {
      "cell_type": "code",
      "source": [
        "from google.colab import drive\n",
        "drive.mount(\"/content/drive\")"
      ],
      "metadata": {
        "id": "7f7--CXkAU0Z"
      },
      "execution_count": null,
      "outputs": []
    },
    {
      "cell_type": "code",
      "source": [
        "import numpy as np\n",
        "import pandas as pd\n",
        "import matplotlib.pyplot as plt\n",
        "import seaborn as sns\n",
        "from sklearn.model_selection import train_test_split\n",
        "from sklearn.linear_model import LinearRegression\n",
        "from sklearn.metrics import mean_squared_error, r2_score\n",
        "from sklearn.preprocessing import PolynomialFeatures"
      ],
      "metadata": {
        "id": "DbufVcTVBAet"
      },
      "execution_count": null,
      "outputs": []
    },
    {
      "cell_type": "code",
      "source": [
        "df = pd.read_csv(\"/content/drive/MyDrive/Tamrinat/used_cars.csv\",index_col = False)\n",
        "df"
      ],
      "metadata": {
        "id": "j2Osmqx9BUBH"
      },
      "execution_count": null,
      "outputs": []
    },
    {
      "cell_type": "code",
      "source": [
        "# preproccessing\n",
        "\n",
        "# df.columns\n",
        "# df.info()\n",
        "# df.isna().sum()\n",
        "# df.duplicated()\n",
        "# df.drop_duplicates()\n",
        "\n",
        "\n",
        "\n",
        "# df[\"mileage\"].value_counts()\n",
        "# df['mileage'] = df['mileage'].str.replace('km/kg', 'kmpl')\n",
        "# df['mileage'] = df['mileage'].str.replace('kmpl', '').astype(float)\n",
        "# meanMileaga = df[\"mileage\"].mean()\n",
        "# df[\"mileage\"].fillna(meanMileaga)\n",
        "# df[\"mileage\"]\n",
        "\n",
        "\n",
        "# df[\"engine\"].value_counts()\n",
        "# df['engine'] = df['engine'].str.replace('CC', '').astype(float)\n",
        "# meanEngine = df[\"engine\"].mean()\n",
        "# df[\"engine\"].fillna(meanEngine)\n",
        "# df[\"engine\"]\n",
        "\n",
        "\n",
        "# df[\"max_power\"].value_counts()\n",
        "# df['max_power'] = df['max_power'].str.replace(' bhp', '')\n",
        "# df['max_power'] = df['max_power'].replace('', '0')\n",
        "# df['max_power'] = df['max_power'].astype(float)\n",
        "# meanMaxPower = df[\"max_power\"].mean()\n",
        "# df[\"max_power\"].fillna(meanMaxPower)\n",
        "# df[\"max_power\"]\n",
        "\n",
        "\n",
        "\n",
        "# modTorque = df[\"torque\"].mode()\n",
        "# df[\"torque\"].fillna(modTorque)\n",
        "# df[\"torque\"]\n"
      ],
      "metadata": {
        "id": "Q5X5S_ttU_a1"
      },
      "execution_count": null,
      "outputs": []
    },
    {
      "cell_type": "code",
      "source": [
        "# Plot histogram of selling prices\n",
        "# plt.figure(figsize=(10, 6))\n",
        "# sns.histplot(df['selling_price'], bins=10, kde=True)\n",
        "# plt.title('Distribution of Selling Prices')\n",
        "# plt.xlabel('Selling Price')\n",
        "# plt.ylabel('Count')\n",
        "# plt.show()\n",
        "\n",
        "\n",
        "\n",
        "# Scatter plot of selling price vs. kilometers driven\n",
        "# plt.figure(figsize=(10, 6))\n",
        "# sns.scatterplot(x='km_driven', y='selling_price', data=df)\n",
        "# plt.title('Selling Price vs. Kilometers Driven')\n",
        "# plt.xlabel('Kilometers Driven')\n",
        "# plt.ylabel('Selling Price')\n",
        "# plt.show()\n",
        "\n",
        "\n",
        "# Box plot of selling prices by fuel type\n",
        "# plt.figure(figsize=(10, 6))\n",
        "# sns.boxplot(x='fuel', y='selling_price', data=df)\n",
        "# plt.title('Selling Prices by Fuel Type')\n",
        "# plt.xlabel('Fuel Type')\n",
        "# plt.ylabel('Selling Price')\n",
        "# plt.show()\n",
        "\n",
        "\n",
        "# Count plot of cars by transmission type\n",
        "# plt.figure(figsize=(10, 6))\n",
        "# sns.countplot(x='transmission', data=df)\n",
        "# plt.title('Count of Cars by Transmission Type')\n",
        "# plt.xlabel('Transmission Type')\n",
        "# plt.ylabel('Count')\n",
        "# plt.show()\n"
      ],
      "metadata": {
        "id": "KR8cqmrh06Ec"
      },
      "execution_count": null,
      "outputs": []
    },
    {
      "cell_type": "code",
      "source": [
        "# X = df[['year', 'km_driven', 'mileage', 'engine', 'max_power', 'torque', 'seats']]\n",
        "# y = df['selling_price']\n",
        "\n",
        "# # Split the data into training and test sets with 80% training data and 20% test data\n",
        "# X_train, X_test, y_train, y_test = train_test_split(X, y, test_size=0.2, random_state=42)\n",
        "\n",
        "# # Display the shapes of training and test data\n",
        "# print(\"Training data shape - X:\", X_train.shape, \" y:\", y_train.shape)\n",
        "# print(\"Test data shape - X:\", X_test.shape, \" y:\", y_test.shape)"
      ],
      "metadata": {
        "id": "LYbYJ05cD7Rv"
      },
      "execution_count": null,
      "outputs": []
    },
    {
      "cell_type": "code",
      "source": [
        "# # Generate data for independent variable and dependent variable\n",
        "# X = df[['year']]  # Independent variable\n",
        "# y = df['selling_price']  # Dependent variable\n",
        "\n",
        "# # Split the data into training and test sets\n",
        "# X_train, X_test, y_train, y_test = train_test_split(X, y, test_size=0.2, random_state=42)\n",
        "\n",
        "# # Create and fit the linear regression model\n",
        "# model = LinearRegression()\n",
        "# model.fit(X_train, y_train)\n",
        "\n",
        "# # Make predictions\n",
        "# y_pred = model.predict(X_test)\n",
        "\n",
        "# # Plot the regression line\n",
        "# plt.scatter(X_test, y_test, color='blue')\n",
        "# plt.plot(X_test, y_pred, color='red')\n",
        "# plt.xlabel('Year')\n",
        "# plt.ylabel('Selling Price')\n",
        "# plt.title('Univariate Linear Regression')\n",
        "# plt.show()"
      ],
      "metadata": {
        "id": "NUD8zDsmG301"
      },
      "execution_count": null,
      "outputs": []
    },
    {
      "cell_type": "code",
      "source": [
        "# Drop rows with missing values\n",
        "# df = df.dropna()\n",
        "\n",
        "# X = df[['year', 'km_driven', 'mileage', 'engine', 'max_power', 'seats']]  # Independent variables\n",
        "# y = df['selling_price']  # Dependent variable\n",
        "\n",
        "# # Split the data into training and test sets\n",
        "# X_train, X_test, y_train, y_test = train_test_split(X, y, test_size=0.2, random_state=42)\n",
        "\n",
        "# # Create and fit the linear regression model\n",
        "# model = LinearRegression()\n",
        "# model.fit(X_train, y_train)\n",
        "\n",
        "# # Make predictions\n",
        "# y_pred = model.predict(X_test)\n",
        "\n",
        "# # Calculate Mean Squared Error\n",
        "# mse = mean_squared_error(y_test, y_pred)\n",
        "# print(\"Mean Squared Error:\", mse)"
      ],
      "metadata": {
        "id": "dCeU1gu4IQSq"
      },
      "execution_count": null,
      "outputs": []
    },
    {
      "cell_type": "code",
      "source": [
        "# # Drop rows with missing values\n",
        "# df = df.dropna()\n",
        "\n",
        "# X = df[['year', 'km_driven', 'mileage', 'engine', 'max_power', 'seats']]  # Independent variables\n",
        "# y = df['selling_price']  # Dependent variable\n",
        "\n",
        "# # Split the data into training and test sets\n",
        "# X_train, X_test, y_train, y_test = train_test_split(X, y, test_size=0.2, random_state=42)\n",
        "\n",
        "# # Create polynomial features (e.g., degree=2)\n",
        "# poly = PolynomialFeatures(degree=2)\n",
        "# X_train_poly = poly.fit_transform(X_train)\n",
        "# X_test_poly = poly.transform(X_test)\n",
        "\n",
        "# # Create and fit the polynomial regression model\n",
        "# model = LinearRegression()\n",
        "# model.fit(X_train_poly, y_train)\n",
        "\n",
        "# # Make predictions\n",
        "# y_pred = model.predict(X_test_poly)\n",
        "\n",
        "# # Calculate Mean Squared Error\n",
        "# mse = mean_squared_error(y_test, y_pred)\n",
        "# print(\"Mean Squared Error:\", mse)"
      ],
      "metadata": {
        "id": "ojbbpVcLJ-Nt"
      },
      "execution_count": null,
      "outputs": []
    }
  ]
}